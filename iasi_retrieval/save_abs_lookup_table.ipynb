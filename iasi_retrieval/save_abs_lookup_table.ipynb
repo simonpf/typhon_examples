{
 "cells": [
  {
   "cell_type": "code",
   "execution_count": 1,
   "metadata": {
    "ExecuteTime": {
     "end_time": "2019-07-30T11:45:01.079384Z",
     "start_time": "2019-07-30T11:44:58.491363Z"
    }
   },
   "outputs": [
    {
     "name": "stdout",
     "output_type": "stream",
     "text": [
      "env: ARTS_INCLUDE_PATH=/scratch/uni/u237/users/mprange/arts/controlfiles/\n",
      "env: ARTS_BUILD_PATH=/scratch/uni/u237/users/mprange/arts/build/\n",
      "Loading ARTS API from: /scratch/uni/u237/users/mprange/arts/build/src/libarts_api.so\n"
     ]
    }
   ],
   "source": [
    "%env ARTS_INCLUDE_PATH=/scratch/uni/u237/users/mprange/arts/controlfiles/\n",
    "%env ARTS_BUILD_PATH=/scratch/uni/u237/users/mprange/arts/build/\n",
    "\n",
    "%matplotlib inline\n",
    "import numpy as np\n",
    "from typhon.arts.workspace import Workspace, arts_agenda\n",
    "from typhon.physics import wavenumber2frequency"
   ]
  },
  {
   "cell_type": "markdown",
   "metadata": {},
   "source": [
    "# Load generic agendas"
   ]
  },
  {
   "cell_type": "code",
   "execution_count": 2,
   "metadata": {
    "ExecuteTime": {
     "end_time": "2019-07-30T11:45:01.555856Z",
     "start_time": "2019-07-30T11:45:01.500288Z"
    }
   },
   "outputs": [],
   "source": [
    "ws = Workspace(verbosity = 0)\n",
    "ws.execute_controlfile(\"general/general.arts\")\n",
    "ws.execute_controlfile(\"general/continua.arts\")\n",
    "ws.execute_controlfile(\"general/agendas.arts\")\n",
    "ws.execute_controlfile(\"general/planet_earth.arts\")\n",
    "ws.Copy(ws.abs_xsec_agenda, ws.abs_xsec_agenda__noCIA)"
   ]
  },
  {
   "cell_type": "markdown",
   "metadata": {},
   "source": [
    "# Load f_grid"
   ]
  },
  {
   "cell_type": "code",
   "execution_count": 3,
   "metadata": {
    "ExecuteTime": {
     "end_time": "2019-07-30T11:45:02.603405Z",
     "start_time": "2019-07-30T11:45:02.594032Z"
    }
   },
   "outputs": [],
   "source": [
    "h2o_band = np.arange(wavenumber2frequency(1185 * 100), wavenumber2frequency(1405 * 100), 7.5e9)\n",
    "co2_band = np.arange(wavenumber2frequency(595 * 100), wavenumber2frequency(755 * 100), 7.5e9)\n",
    "ws.f_grid = np.concatenate((co2_band, h2o_band))"
   ]
  },
  {
   "cell_type": "markdown",
   "metadata": {},
   "source": [
    "# Load batch_atm_fields"
   ]
  },
  {
   "cell_type": "code",
   "execution_count": 6,
   "metadata": {
    "ExecuteTime": {
     "end_time": "2019-07-30T11:45:30.391686Z",
     "start_time": "2019-07-30T11:45:30.332878Z"
    }
   },
   "outputs": [],
   "source": [
    "ws.ReadXML(ws.batch_atm_fields_compact,\n",
    "           \"/scratch/uni/u237/users/mprange/arts/controlfiles/testdata/garand_profiles.xml.gz\")\n",
    "ws.batch_atm_fields_compactAddConstant(name=\"abs_species-O2\",\n",
    "                                       value=0.2095,\n",
    "                                       condensibles=[\"abs_species-H2O\"])\n",
    "ws.batch_atm_fields_compactAddConstant(name=\"abs_species-N2\",\n",
    "                                       value=0.7808,\n",
    "                                       condensibles=[\"abs_species-H2O\"])"
   ]
  },
  {
   "cell_type": "markdown",
   "metadata": {},
   "source": [
    "# Set absorption species and load line data"
   ]
  },
  {
   "cell_type": "code",
   "execution_count": 6,
   "metadata": {
    "ExecuteTime": {
     "end_time": "2019-07-30T11:40:26.003514Z",
     "start_time": "2019-07-30T11:40:25.996182Z"
    },
    "run_control": {
     "marked": true
    }
   },
   "outputs": [],
   "source": [
    "def read_iasi_abs_lines(ws, spectral_limit1, spectral_limit2, spectral_str):\n",
    "    \"\"\"\n",
    "    Read absorption lines from HITRAN catalogue into workspace for given spectral range, which can be\n",
    "    in units of frequency, wavelength or wavenumber.\n",
    "    :param ws: ARTS workspace object\n",
    "    :param spectral_limit1: lower spectral limit\n",
    "    :param spectral_limit2: upper spectral limit\n",
    "    :param spectral_str: Can be \"frequency\", \"wavelength\" or \"wavenumber\"\n",
    "    :return:\n",
    "    \"\"\"\n",
    "    if spectral_str == \"wavelength\":\n",
    "        spectral_limit2 = wavelength2frequency(spectral_limit1 * 1e-6)\n",
    "        spectral_limit1 = wavelength2frequency(spectral_limit2 * 1e-6)\n",
    "    elif spectral_str == \"wavenumber\":\n",
    "        spectral_limit1 = wavenumber2frequency(spectral_limit1 * 100)\n",
    "        spectral_limit2 = wavenumber2frequency(spectral_limit2 * 100)\n",
    "\n",
    "    # define absorbing species and load lines for given frequency range from HITRAN\n",
    "    ws.abs_speciesSet(species=[\"H2O, H2O-SelfContCKDMT252, H2O-ForeignContCKDMT252\",\n",
    "                               \"O2, O2-CIAfunCKDMT100\",\n",
    "                               \"N2, N2-CIAfunCKDMT252, N2-CIArotCKDMT252\",\n",
    "                               \"O3\",\n",
    "                               \"CO2, CO2-CKDMT252\"])\n",
    "    ws.abs_lineshapeDefine(shape='Voigt_Kuntz6',\n",
    "                           forefactor='VVH',\n",
    "                           cutoff=750e9)\n",
    "    # Read HITRAN catalog\n",
    "    ws.abs_linesReadFromSplitArtscat(\n",
    "        basename='/scratch/uni/u237/data/catalogue/hitran/hitran_split_artscat5/',\n",
    "        fmin=spectral_limit1,\n",
    "        fmax=spectral_limit2)\n",
    "    return ws\n",
    "    "
   ]
  },
  {
   "cell_type": "code",
   "execution_count": 5,
   "metadata": {
    "ExecuteTime": {
     "end_time": "2019-07-30T10:24:24.738099Z",
     "start_time": "2019-07-30T10:23:41.517111Z"
    },
    "run_control": {
     "marked": true
    }
   },
   "outputs": [],
   "source": [
    "ws = read_iasi_abs_lines(ws, 595, 1405, \"wavenumber\")\n",
    "ws.abs_lines_per_speciesCreateFromLines()"
   ]
  },
  {
   "cell_type": "markdown",
   "metadata": {},
   "source": [
    "# Do the absorption lookup table calculation"
   ]
  },
  {
   "cell_type": "code",
   "execution_count": 8,
   "metadata": {
    "ExecuteTime": {
     "end_time": "2019-07-30T10:28:50.706605Z",
     "start_time": "2019-07-30T10:24:36.720365Z"
    }
   },
   "outputs": [],
   "source": [
    "ws.atmosphere_dim = 1  # for 1DVAR\n",
    "ws.abs_lookupSetupBatch()\n",
    "ws.abs_xsec_agenda_checkedCalc()\n",
    "\n",
    "ws.abs_lookupCalc()"
   ]
  },
  {
   "cell_type": "code",
   "execution_count": 11,
   "metadata": {
    "ExecuteTime": {
     "end_time": "2019-07-30T11:20:16.078213Z",
     "start_time": "2019-07-30T11:20:14.826916Z"
    }
   },
   "outputs": [],
   "source": [
    "ws.WriteXML(\"binary\", ws.abs_lookup, \"a_priori/abs_lookup_iasi.xml\")"
   ]
  },
  {
   "cell_type": "markdown",
   "metadata": {},
   "source": [
    " # Try loading the lookup table"
   ]
  },
  {
   "cell_type": "code",
   "execution_count": 10,
   "metadata": {
    "ExecuteTime": {
     "end_time": "2019-07-30T11:52:36.286647Z",
     "start_time": "2019-07-30T11:52:35.416291Z"
    }
   },
   "outputs": [],
   "source": [
    "ws.ReadXML(ws.abs_lookup, \"a_priori/abs_lookup_iasi.xml\")\n",
    "ws.abs_speciesSet(species=[\"H2O, H2O-SelfContCKDMT252, H2O-ForeignContCKDMT252\",\n",
    "                           \"O2, O2-CIAfunCKDMT100\",\n",
    "                           \"N2, N2-CIAfunCKDMT252, N2-CIArotCKDMT252\",\n",
    "                           \"O3\",\n",
    "                           \"CO2, CO2-CKDMT252\"])\n",
    "ws.abs_lineshapeDefine(shape='Voigt_Kuntz6',\n",
    "                       forefactor='VVH',\n",
    "                       cutoff=750e9)\n",
    "ws.abs_lookupAdapt()"
   ]
  },
  {
   "cell_type": "code",
   "execution_count": 34,
   "metadata": {
    "ExecuteTime": {
     "end_time": "2019-07-30T12:12:02.753337Z",
     "start_time": "2019-07-30T12:12:02.729215Z"
    }
   },
   "outputs": [
    {
     "data": {
      "text/plain": [
       "array([1.01325e+05, 1.00543e+05, 9.85880e+04, 9.57440e+04, 9.22460e+04,\n",
       "       8.82800e+04, 8.39950e+04, 7.95090e+04, 7.49120e+04, 7.02730e+04,\n",
       "       6.56430e+04, 6.10600e+04, 5.65540e+04, 5.21460e+04, 4.78540e+04,\n",
       "       4.36950e+04, 3.96810e+04, 3.58280e+04, 3.21500e+04, 2.86600e+04,\n",
       "       2.53710e+04, 2.22940e+04, 1.94360e+04, 1.67950e+04, 1.43840e+04,\n",
       "       1.22040e+04, 1.02050e+04, 8.51800e+03, 6.99700e+03, 5.67300e+03,\n",
       "       4.52900e+03, 3.55100e+03, 2.72600e+03, 2.04000e+03, 1.48100e+03,\n",
       "       1.03700e+03, 6.95000e+02, 4.41000e+02, 2.61000e+02, 1.42000e+02,\n",
       "       6.90000e+01, 2.90000e+01, 1.00000e+01])"
      ]
     },
     "execution_count": 34,
     "metadata": {},
     "output_type": "execute_result"
    }
   ],
   "source": [
    "ws.ReadXML(ws.batch_atm_fields_compact,\n",
    "           \"/scratch/uni/u237/users/mprange/arts/controlfiles/testdata/garand_profiles.xml.gz\")\n",
    "ws.batch_atm_fields_compactAddConstant(name=\"abs_species-O2\",\n",
    "                                       value=0.2095,\n",
    "                                       condensibles=[\"abs_species-H2O\"])\n",
    "ws.batch_atm_fields_compactAddConstant(name=\"abs_species-N2\",\n",
    "                                       value=0.7808,\n",
    "                                       condensibles=[\"abs_species-H2O\"])\n",
    "ws.Extract(ws.atm_fields_compact,\n",
    "           ws.batch_atm_fields_compact,\n",
    "           0)\n",
    "ws.atm_fields_compact.value.grids[1]"
   ]
  }
 ],
 "metadata": {
  "kernelspec": {
   "display_name": "Python 3",
   "language": "python",
   "name": "python3"
  },
  "language_info": {
   "codemirror_mode": {
    "name": "ipython",
    "version": 3
   },
   "file_extension": ".py",
   "mimetype": "text/x-python",
   "name": "python",
   "nbconvert_exporter": "python",
   "pygments_lexer": "ipython3",
   "version": "3.7.3"
  },
  "toc": {
   "base_numbering": 1,
   "nav_menu": {},
   "number_sections": true,
   "sideBar": true,
   "skip_h1_title": false,
   "title_cell": "Table of Contents",
   "title_sidebar": "Contents",
   "toc_cell": false,
   "toc_position": {},
   "toc_section_display": true,
   "toc_window_display": false
  }
 },
 "nbformat": 4,
 "nbformat_minor": 2
}
