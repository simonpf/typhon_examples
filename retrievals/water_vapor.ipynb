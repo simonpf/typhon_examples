{
 "cells": [
  {
   "cell_type": "markdown",
   "metadata": {},
   "source": [
    "# Water vapor retrieval using principal components\n",
    "\n",
    "This notebook provides an example of a passive microwave water vapor (WV) retrieval using ARTS.\n",
    "\n",
    "Authors: Simon Pfreundschuh and David Duncan, Chalmers University"
   ]
  },
  {
   "cell_type": "markdown",
   "metadata": {},
   "source": [
    "# Set up ARTS/Python environment\n"
   ]
  },
  {
   "cell_type": "code",
   "execution_count": 1,
   "metadata": {},
   "outputs": [
    {
     "name": "stdout",
     "output_type": "stream",
     "text": [
      "env: ARTS_INCLUDE_PATH=/home/simonpf/src/arts/controlfiles/\n",
      "env: ARTS_DATA_PATH=/home/simonpf/src/arts_xml/\n",
      "env: ARTS_BUILD_PATH=/home/simonpf/build/arts_fast/\n",
      "Loading ARTS API from: /home/simonpf/build/arts_fast/src/libarts_api.so\n"
     ]
    },
    {
     "data": {
      "text/plain": [
       "<typhon.arts.workspace.agendas.Agenda at 0x7f7be0c205c0>"
      ]
     },
     "execution_count": 1,
     "metadata": {},
     "output_type": "execute_result"
    }
   ],
   "source": [
    "%env ARTS_INCLUDE_PATH=/home/simonpf/src/arts/controlfiles/\n",
    "%env ARTS_DATA_PATH=/home/simonpf/src/arts_xml/\n",
    "%env ARTS_BUILD_PATH=/home/simonpf/build/arts_fast/\n",
    "%load_ext autoreload\n",
    "%autoreload 2\n",
    "%matplotlib inline\n",
    "import numpy as np\n",
    "import matplotlib.pyplot as plt\n",
    "\n",
    "from typhon.arts.workspace import Workspace, arts_agenda\n",
    "ws = Workspace(verbosity = 0)\n",
    "ws.execute_controlfile(\"general/general.arts\")\n",
    "ws.execute_controlfile(\"general/continua.arts\")\n",
    "ws.execute_controlfile(\"general/agendas.arts\")\n",
    "ws.execute_controlfile(\"general/planet_earth.arts\")"
   ]
  },
  {
   "cell_type": "code",
   "execution_count": 2,
   "metadata": {},
   "outputs": [],
   "source": [
    "# define absorbing species and sensor (here using metmm library, used again below)\n",
    "ws.Copy(ws.abs_xsec_agenda, ws.abs_xsec_agenda__noCIA)\n",
    "ws.abs_speciesSet(species=[\"H2O-PWR98\",\"O2-PWR93\",\"N2-SelfContStandardType\"])\n",
    "ws.ReadXML( ws.abs_lines, \"instruments/metmm/abs_lines_metmm.xml.gz\")\n",
    "ws.abs_lines_per_speciesCreateFromLines()"
   ]
  },
  {
   "cell_type": "markdown",
   "metadata": {},
   "source": [
    "# General Settings"
   ]
  },
  {
   "cell_type": "code",
   "execution_count": 3,
   "metadata": {},
   "outputs": [],
   "source": [
    "ws.stokes_dim = 1\n",
    "ws.jacobian_quantities = []\n",
    "ws.iy_unit = \"PlanckBT\"\n",
    "ws.cloudboxOff()"
   ]
  },
  {
   "cell_type": "markdown",
   "metadata": {
    "collapsed": true
   },
   "source": [
    "# Atmosphere set up"
   ]
  },
  {
   "cell_type": "code",
   "execution_count": 4,
   "metadata": {},
   "outputs": [],
   "source": [
    "ws.atmosphere_dim = 1  # for 1DVAR\n",
    "p = np.array([1000.,975.,950.,925.,900.,850.,800.,750.,700.,650.,600.,550.,500.,400.,300.,200.,100.])*100.0\n",
    "ws.p_grid = 0.5 * (p[1:] + p[:-1])\n",
    "ws.AtmRawRead( basename = \"planets/Earth/Fascod/tropical/tropical\") #tropical atmosphere assumed\n",
    "ws.lat_grid = []\n",
    "ws.lon_grid = []\n",
    "ws.AtmFieldsCalc()\n",
    "ws.AbsInputFromAtmFields()\n",
    "\n",
    "ws.z_surface = np.asarray(ws.z_field)[0]\n",
    "ws.t_surface = np.asarray(ws.t_field)[0]"
   ]
  },
  {
   "cell_type": "code",
   "execution_count": 5,
   "metadata": {},
   "outputs": [
    {
     "name": "stderr",
     "output_type": "stream",
     "text": [
      "No handles with labels found to put in legend.\n"
     ]
    },
    {
     "data": {
      "text/plain": [
       "<matplotlib.legend.Legend at 0x7f7be0b01e80>"
      ]
     },
     "execution_count": 5,
     "metadata": {},
     "output_type": "execute_result"
    },
    {
     "data": {
      "image/png": "[encoded data removed]",
      "text/plain": [
       "<Figure size 432x288 with 1 Axes>"
      ]
     },
     "metadata": {
      "needs_background": "light"
     },
     "output_type": "display_data"
    }
   ],
   "source": [
    "alt = np.asarray(ws.z_field).ravel() * .001 # altitude in km (for plotting)\n",
    "plt.xlabel(\"T [K]\")\n",
    "plt.ylabel(\"z [km]\")\n",
    "plt.plot(np.asarray(ws.vmr_field)[0,:,0,0], alt)\n",
    "plt.xlabel(\"$H_2O [mol/mol$]\")\n",
    "plt.ylabel(\"z [km]\")\n",
    "plt.xlabel(\"vmr [mol / mol]\")\n",
    "plt.ylabel(\"z [km]\")\n",
    "plt.legend()"
   ]
  },
  {
   "cell_type": "markdown",
   "metadata": {},
   "source": [
    "# Sensor definition"
   ]
  },
  {
   "cell_type": "code",
   "execution_count": 6,
   "metadata": {},
   "outputs": [
    {
     "data": {
      "text/plain": [
       "<typhon.arts.workspace.agendas.Agenda at 0x7f7be0ab4a58>"
      ]
     },
     "execution_count": 6,
     "metadata": {},
     "output_type": "execute_result"
    }
   ],
   "source": [
    "ws.ArrayOfIndexCreate(\"channels\")\n",
    "ws.channels = list(range(21))\n",
    "ws.ArrayOfIndexCreate(\"viewing_angles\")\n",
    "ws.viewing_angles = [47] # index of stored viewing angles in metmm file\n",
    "\n",
    "ws.sensor_pos  = np.array([[850e3]]) # 850km\n",
    "ws.sensor_time = np.array([0.0])\n",
    "ws.sensor_los  = np.array([[180.0]]) # nadir viewing\n",
    "\n",
    "ws.IndexCreate(\"met_mm_accuracy\") \n",
    "ws.met_mm_accuracy = 1 # points within each bandwidth to comute abs characteristics\n",
    "\n",
    "ws.execute_controlfile(\"instruments/metmm/sensor_descriptions/prepare_metmm.arts\")\n",
    "ws.execute_controlfile(\"instruments/metmm/sensor_descriptions/sensor_atms.arts\")\n",
    "ws.execute_controlfile(\"instruments/metmm/sensor_descriptions/apply_metmm.arts\")\n",
    "ws.execute_controlfile(\"instruments/metmm/common_metmm.arts\")"
   ]
  },
  {
   "cell_type": "code",
   "execution_count": 7,
   "metadata": {},
   "outputs": [],
   "source": [
    "ws.atmfields_checkedCalc( bad_partition_functions_ok = 1 )\n",
    "ws.abs_xsec_agenda_checkedCalc()\n",
    "ws.abs_lookupSetup()\n",
    "ws.abs_lookupCalc()"
   ]
  },
  {
   "cell_type": "markdown",
   "metadata": {},
   "source": [
    "## Setup perturbed profile"
   ]
  },
  {
   "cell_type": "markdown",
   "metadata": {},
   "source": []
  },
  {
   "cell_type": "code",
   "execution_count": 13,
   "metadata": {},
   "outputs": [],
   "source": [
    "a_priori = np.copy(ws.vmr_field.value[0, :, 0, 0])\n",
    "perturbed = 1.4 * a_priori"
   ]
  },
  {
   "cell_type": "code",
   "execution_count": 14,
   "metadata": {},
   "outputs": [
    {
     "data": {
      "text/plain": [
       "<matplotlib.legend.Legend at 0x7f7bdd8d3f60>"
      ]
     },
     "execution_count": 14,
     "metadata": {},
     "output_type": "execute_result"
    },
    {
     "data": {
      "image/png": "[encoded data removed]",
      "text/plain": [
       "<Figure size 432x288 with 1 Axes>"
      ]
     },
     "metadata": {
      "needs_background": "light"
     },
     "output_type": "display_data"
    }
   ],
   "source": [
    "plt.figure()\n",
    "plt.plot(a_priori, alt, label=\"A priori\")\n",
    "plt.plot(perturbed, alt, label=\"True state\")\n",
    "plt.xlabel(\"$H_2O [kg / m^3$]\")\n",
    "plt.ylabel(\"z [km]\")\n",
    "plt.legend()"
   ]
  },
  {
   "cell_type": "markdown",
   "metadata": {},
   "source": [
    "# Surface "
   ]
  },
  {
   "cell_type": "code",
   "execution_count": 15,
   "metadata": {},
   "outputs": [],
   "source": [
    "ws.surface_scalar_reflectivity = np.array([0.5]) # nominal albedo for surface\n",
    "ws.propmat_clearsky_agenda_checkedCalc()\n",
    "ws.atmgeom_checkedCalc()\n",
    "ws.cloudbox_checkedCalc()\n",
    "ws.sensor_checkedCalc()\n",
    "ws.jacobianOff()"
   ]
  },
  {
   "cell_type": "markdown",
   "metadata": {},
   "source": [
    "# Call forward model\n",
    "\n",
    "Simulate observation setting vmr_field to the perturbed WV profile."
   ]
  },
  {
   "cell_type": "code",
   "execution_count": 16,
   "metadata": {},
   "outputs": [
    {
     "data": {
      "text/plain": [
       "array([211.82545805, 180.91137948, 229.6254596 , 247.81189001,\n",
       "       262.77374087, 263.15488675, 250.50202915, 240.06035998,\n",
       "       230.70341212, 217.80040773, 216.78236113, 216.43070668,\n",
       "       216.33892405, 216.31905668, 216.31484116, 240.27601164,\n",
       "       283.88502578, 273.90866088, 267.11796684, 260.69285671,\n",
       "       253.22142666])"
      ]
     },
     "execution_count": 16,
     "metadata": {},
     "output_type": "execute_result"
    }
   ],
   "source": [
    "ws.vmr_field.value[0, :, 0, 0] = perturbed\n",
    "ws.yCalc()\n",
    "ws.y.value # write out TBs for first ycalc"
   ]
  },
  {
   "cell_type": "markdown",
   "metadata": {},
   "source": [
    "# Set up OEM retrieval"
   ]
  },
  {
   "cell_type": "code",
   "execution_count": 28,
   "metadata": {},
   "outputs": [],
   "source": [
    "ws.vmr_field.value[0, :, 0, 0] = a_priori\n",
    "ws.retrievalDefInit()\n",
    "# Add H2O as retrieval quantity.\n",
    "ws.retrievalAddAbsSpecies(species=\"H2O-PWR98\",\n",
    "                          unit=\"rel\",\n",
    "                          g1=ws.p_grid,\n",
    "                          g2=ws.lat_grid,\n",
    "                          g3=ws.lon_grid )\n",
    "ws.covmat_sxAddBlock(block = np.diag(0.2 ** 2 * np.ones(perturbed.size)))\n",
    "\n",
    "# Setup observation error covariance matrix.\n",
    "ws.covmat_seAddBlock(block = 1.0 ** 2 * np.diag(np.ones(ws.y.value.size)))\n",
    "ws.retrievalDefClose()\n",
    "\n",
    "# define inversion iteration as function object within python\n",
    "@arts_agenda\n",
    "def inversion_agenda(ws):\n",
    "    ws.Ignore(ws.inversion_iteration_counter)\n",
    "    ws.x2artsAtmAndSurf()\n",
    "    ws.atmfields_checkedCalc()  # to be safe, rerun checks dealing with atmosph.\n",
    "    ws.atmgeom_checkedCalc()\n",
    "    ws.yCalc()  # calculate yf and jacobian matching x\n",
    "    ws.Copy(ws.yf, ws.y)\n",
    "    ws.jacobianAdjustAndTransform()\n",
    "    \n",
    "ws.Copy(ws.inversion_iterate_agenda, inversion_agenda)"
   ]
  },
  {
   "cell_type": "code",
   "execution_count": 29,
   "metadata": {},
   "outputs": [],
   "source": [
    "ws.xa = np.ones(perturbed.size) # if supplying user-defined a priori vector\n",
    "ws.x  = np.array([]) # create empty vector for retrieved state vector?\n",
    "ws.yf = np.array([]) # create empty vector for simulated TB?\n",
    "ws.jacobian = np.array([[]])"
   ]
  },
  {
   "cell_type": "markdown",
   "metadata": {},
   "source": [
    "# Run OEM retrieval"
   ]
  },
  {
   "cell_type": "code",
   "execution_count": 30,
   "metadata": {},
   "outputs": [
    {
     "name": "stdout",
     "output_type": "stream",
     "text": [
      "ARTS[94717877104784]: \n",
      "ARTS[94717877104784]:                                 MAP Computation                                \n",
      "ARTS[94717877104784]: Formulation: Standard\n",
      "ARTS[94717877104784]: Method:      Gauss-Newton\n",
      "ARTS[94717877104784]: \n",
      "ARTS[94717877104784]:  Step     Total Cost         x-Cost         y-Cost    Conv. Crit.               \n",
      "ARTS[94717877104784]: --------------------------------------------------------------------------------\n",
      "ARTS[94717877104784]:     0        25.8936              0        25.8936               \n",
      "ARTS[94717877104784]:     1        2.27846        1.61793       0.660526        31.2791\n",
      "ARTS[94717877104784]:     2        2.12218        1.81515       0.307032       0.213188\n",
      "ARTS[94717877104784]:     3         2.1217        1.81816       0.303547    0.000138554\n",
      "ARTS[94717877104784]: --------------------------------------------------------------------------------\n",
      "ARTS[94717877104784]: \n",
      "ARTS[94717877104784]: Total number of steps:            3\n",
      "ARTS[94717877104784]: Final scaled cost function value: 2.1217\n",
      "ARTS[94717877104784]: OEM computation converged.\n",
      "ARTS[94717877104784]: \n",
      "ARTS[94717877104784]: Elapsed Time for Retrieval:                       0.135973\n",
      "ARTS[94717877104784]: Time in inversion_iterate Agenda (No Jacobian):   0.0781898\n",
      "ARTS[94717877104784]: Time in inversion_iterate Agenda (With Jacobian): 0.0575973\n",
      "ARTS[94717877104784]: \n",
      "ARTS[94717877104784]:                                       ----                                      \n",
      "ARTS[94717877104784]: \n",
      "\n",
      "[]\n"
     ]
    }
   ],
   "source": [
    "ws.oem_errors = []\n",
    "ws.OEM(method=\"gn\",\n",
    "       max_iter=1000,\n",
    "       display_progress=1,\n",
    "       max_start_cost=1e5)\n",
    "print(ws.oem_errors.value)\n",
    "ws.x2artsAtmAndSurf() # convert from ARTS coords back to user-defined grid"
   ]
  },
  {
   "cell_type": "code",
   "execution_count": 31,
   "metadata": {},
   "outputs": [
    {
     "data": {
      "text/plain": [
       "array([1.21021264, 1.38437986, 1.35211056, 1.39418977, 1.48322848,\n",
       "       1.47327923, 1.3744837 , 1.26930811, 1.20328336, 1.16833211,\n",
       "       1.17582246, 1.23982605, 1.33618513, 1.31037524, 1.13358723,\n",
       "       1.01974719])"
      ]
     },
     "execution_count": 31,
     "metadata": {},
     "output_type": "execute_result"
    }
   ],
   "source": [
    "retrieved = np.copy(ws.vmr_field)[0,:,0,0]\n",
    "ws.x.value"
   ]
  },
  {
   "cell_type": "markdown",
   "metadata": {},
   "source": [
    "# Look at results"
   ]
  },
  {
   "cell_type": "code",
   "execution_count": 35,
   "metadata": {},
   "outputs": [
    {
     "data": {
      "text/plain": [
       "<matplotlib.legend.Legend at 0x7f7bdd5ec940>"
      ]
     },
     "execution_count": 35,
     "metadata": {},
     "output_type": "execute_result"
    },
    {
     "data": {
      "image/png": "[encoded data removed]",
      "text/plain": [
       "<Figure size 432x288 with 1 Axes>"
      ]
     },
     "metadata": {
      "needs_background": "light"
     },
     "output_type": "display_data"
    }
   ],
   "source": [
    "plt.plot(perturbed, alt, label = \"Truth\", c = \"blue\")\n",
    "plt.plot(retrieved, alt, label = \"Retrieved\", c = \"red\")\n",
    "plt.plot(a_priori, alt, label=\"A Priori\", c = \"grey\", ls = \"--\")\n",
    "plt.xlabel(\"$H_2O [kg / m^3$]\")\n",
    "plt.ylabel(\"z [km]\")\n",
    "plt.legend()"
   ]
  }
 ],
 "metadata": {
  "kernelspec": {
   "display_name": "Python 3",
   "language": "python",
   "name": "python3"
  },
  "language_info": {
   "codemirror_mode": {
    "name": "ipython",
    "version": 3
   },
   "file_extension": ".py",
   "mimetype": "text/x-python",
   "name": "python",
   "nbconvert_exporter": "python",
   "pygments_lexer": "ipython3",
   "version": "3.7.1"
  }
 },
 "nbformat": 4,
 "nbformat_minor": 2
}
