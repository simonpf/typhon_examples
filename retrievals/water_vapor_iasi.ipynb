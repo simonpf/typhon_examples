{
 "cells": [
  {
   "cell_type": "markdown",
   "metadata": {},
   "source": [
    "# Water vapor retrieval using principal components\n",
    "\n",
    "This notebook provides an example of a passive microwave water vapor (WV) retrieval using ARTS.\n",
    "\n",
    "Authors: Simon Pfreundschuh and David Duncan, Chalmers University"
   ]
  },
  {
   "cell_type": "markdown",
   "metadata": {},
   "source": [
    "# Set up ARTS/Python environment\n"
   ]
  },
  {
   "cell_type": "code",
   "execution_count": 1,
   "metadata": {
    "ExecuteTime": {
     "end_time": "2019-07-17T08:26:21.969824Z",
     "start_time": "2019-07-17T08:26:17.319254Z"
    }
   },
   "outputs": [
    {
     "name": "stdout",
     "output_type": "stream",
     "text": [
      "env: ARTS_INCLUDE_PATH=/scratch/uni/u237/users/mprange/arts/controlfiles/\n",
      "env: ARTS_BUILD_PATH=/scratch/uni/u237/users/mprange/arts/build/\n",
      "Loading ARTS API from: /scratch/uni/u237/users/mprange/arts/build/src/libarts_api.so\n"
     ]
    },
    {
     "data": {
      "text/plain": [
       "<typhon.arts.workspace.agendas.Agenda at 0x7f614b3342e8>"
      ]
     },
     "execution_count": 1,
     "metadata": {},
     "output_type": "execute_result"
    }
   ],
   "source": [
    "%env ARTS_INCLUDE_PATH=/scratch/uni/u237/users/mprange/arts/controlfiles/\n",
    "#%env ARTS_DATA_PATH=/home/simonpf/src/arts_xml/\n",
    "%env ARTS_BUILD_PATH=/scratch/uni/u237/users/mprange/arts/build/\n",
    "%load_ext autoreload\n",
    "%autoreload 2\n",
    "%matplotlib inline\n",
    "import numpy as np\n",
    "import matplotlib.pyplot as plt\n",
    "\n",
    "from typhon.arts.workspace import Workspace, arts_agenda\n",
    "ws = Workspace(verbosity = 0)\n",
    "ws.execute_controlfile(\"general/general.arts\")\n",
    "ws.execute_controlfile(\"general/continua.arts\")\n",
    "ws.execute_controlfile(\"general/agendas.arts\")\n",
    "ws.execute_controlfile(\"general/planet_earth.arts\")"
   ]
  },
  {
   "cell_type": "code",
   "execution_count": 25,
   "metadata": {
    "ExecuteTime": {
     "end_time": "2019-07-17T09:00:34.404468Z",
     "start_time": "2019-07-17T09:00:34.374999Z"
    }
   },
   "outputs": [],
   "source": [
    "# (standard) emission calculation\n",
    "ws.Copy( ws.iy_main_agenda, ws.iy_main_agenda__Emission )\n",
    "\n",
    "# cosmic background radiation\n",
    "ws.Copy( ws.iy_space_agenda, ws.iy_space_agenda__CosmicBackground )\n",
    "\n",
    "# standard surface agenda (i.e., make use of surface_rtprop_agenda)\n",
    "ws.Copy( ws.iy_surface_agenda, ws.iy_surface_agenda__UseSurfaceRtprop )\n",
    "\n",
    "ws.Copy( ws.surface_rtprop_agenda, ws.surface_rtprop_agenda__Specular_NoPol_ReflFix_SurfTFromt_surface )\n",
    "\n",
    "# On the fly absorption\n",
    "ws.Copy( ws.propmat_clearsky_agenda, ws.propmat_clearsky_agenda__LookUpTable )\n",
    "# sensor-only path\n",
    "ws.Copy( ws.ppath_agenda, ws.ppath_agenda__FollowSensorLosPath )\n",
    "# no refraction\n",
    "ws.Copy( ws.ppath_step_agenda, ws.ppath_step_agenda__GeometricPath )"
   ]
  },
  {
   "cell_type": "code",
   "execution_count": 69,
   "metadata": {
    "ExecuteTime": {
     "end_time": "2019-07-17T12:38:32.506673Z",
     "start_time": "2019-07-17T12:37:51.038887Z"
    }
   },
   "outputs": [
    {
     "ename": "Exception",
     "evalue": "Call to ARTS WSM abs_linesReadFromHitran failed with error: Undefined Rational in operator+",
     "output_type": "error",
     "traceback": [
      "\u001b[0;31m---------------------------------------------------------------------------\u001b[0m",
      "\u001b[0;31mException\u001b[0m                                 Traceback (most recent call last)",
      "\u001b[0;32m<ipython-input-69-4b7c29307c5a>\u001b[0m in \u001b[0;36m<module>\u001b[0;34m\u001b[0m\n\u001b[1;32m      9\u001b[0m ws.abs_linesReadFromHitran(\"/scratch/uni/u237/data/catalogue/hitran/hitran_online/HITRAN2012.par\",\n\u001b[1;32m     10\u001b[0m                            \u001b[0;36m19e12\u001b[0m\u001b[0;34m,\u001b[0m\u001b[0;34m\u001b[0m\u001b[0;34m\u001b[0m\u001b[0m\n\u001b[0;32m---> 11\u001b[0;31m                            6e13) # ERROR, when using full IASI spectrum.\n\u001b[0m\u001b[1;32m     12\u001b[0m \u001b[0mws\u001b[0m\u001b[0;34m.\u001b[0m\u001b[0mabs_lines_per_speciesCreateFromLines\u001b[0m\u001b[0;34m(\u001b[0m\u001b[0;34m)\u001b[0m\u001b[0;34m\u001b[0m\u001b[0;34m\u001b[0m\u001b[0m\n",
      "\u001b[0;32m/scratch/uni/u237/users/mprange/typhon/typhon/arts/workspace/workspace.py\u001b[0m in \u001b[0;36m__call__\u001b[0;34m(self, *args, **kwargs)\u001b[0m\n\u001b[1;32m    257\u001b[0m \u001b[0;34m\u001b[0m\u001b[0m\n\u001b[1;32m    258\u001b[0m     \u001b[0;32mdef\u001b[0m \u001b[0m__call__\u001b[0m\u001b[0;34m(\u001b[0m\u001b[0mself\u001b[0m\u001b[0;34m,\u001b[0m \u001b[0;34m*\u001b[0m\u001b[0margs\u001b[0m\u001b[0;34m,\u001b[0m \u001b[0;34m**\u001b[0m\u001b[0mkwargs\u001b[0m\u001b[0;34m)\u001b[0m\u001b[0;34m:\u001b[0m\u001b[0;34m\u001b[0m\u001b[0;34m\u001b[0m\u001b[0m\n\u001b[0;32m--> 259\u001b[0;31m         \u001b[0mself\u001b[0m\u001b[0;34m.\u001b[0m\u001b[0mm\u001b[0m\u001b[0;34m.\u001b[0m\u001b[0mcall\u001b[0m\u001b[0;34m(\u001b[0m\u001b[0mself\u001b[0m\u001b[0;34m.\u001b[0m\u001b[0mws\u001b[0m\u001b[0;34m,\u001b[0m \u001b[0;34m*\u001b[0m\u001b[0margs\u001b[0m\u001b[0;34m,\u001b[0m \u001b[0;34m**\u001b[0m\u001b[0mkwargs\u001b[0m\u001b[0;34m)\u001b[0m\u001b[0;34m\u001b[0m\u001b[0;34m\u001b[0m\u001b[0m\n\u001b[0m\u001b[1;32m    260\u001b[0m \u001b[0;34m\u001b[0m\u001b[0m\n\u001b[1;32m    261\u001b[0m     \u001b[0;32mdef\u001b[0m \u001b[0m__repr__\u001b[0m\u001b[0;34m(\u001b[0m\u001b[0mself\u001b[0m\u001b[0;34m)\u001b[0m\u001b[0;34m:\u001b[0m\u001b[0;34m\u001b[0m\u001b[0;34m\u001b[0m\u001b[0m\n",
      "\u001b[0;32m/scratch/uni/u237/users/mprange/typhon/typhon/arts/workspace/methods.py\u001b[0m in \u001b[0;36mcall\u001b[0;34m(*args, **kwargs)\u001b[0m\n\u001b[1;32m    374\u001b[0m         \u001b[0;32mif\u001b[0m \u001b[0;34m(\u001b[0m\u001b[0me_ptr\u001b[0m\u001b[0;34m)\u001b[0m\u001b[0;34m:\u001b[0m\u001b[0;34m\u001b[0m\u001b[0;34m\u001b[0m\u001b[0m\n\u001b[1;32m    375\u001b[0m             raise Exception(\"Call to ARTS WSM \" + self.name + \" failed with error: \"\n\u001b[0;32m--> 376\u001b[0;31m                            + e_ptr.decode(\"utf8\").format())\n\u001b[0m\u001b[1;32m    377\u001b[0m \u001b[0;34m\u001b[0m\u001b[0m\n\u001b[1;32m    378\u001b[0m         \u001b[0;31m# Remove temporaries from workspace (in reverse order).\u001b[0m\u001b[0;34m\u001b[0m\u001b[0;34m\u001b[0m\u001b[0;34m\u001b[0m\u001b[0m\n",
      "\u001b[0;31mException\u001b[0m: Call to ARTS WSM abs_linesReadFromHitran failed with error: Undefined Rational in operator+"
     ]
    }
   ],
   "source": [
    "# define absorbing species and sensor (here using metmm library, used again below)\n",
    "ws.Copy(ws.abs_xsec_agenda, ws.abs_xsec_agenda__noCIA)\n",
    "ws.abs_speciesSet(species=[\"H2O, H2O-SelfContCKDMT252, H2O-ForeignContCKDMT252\",\n",
    "                           \"O2, O2-CIAfunCKDMT100\",\n",
    "                           \"N2, N2-CIAfunCKDMT252, N2-CIArotCKDMT252\",\n",
    "                           \"O3\",\n",
    "                           \"CO2, CO2-CKDMT252\"])\n",
    "# Read HITRAN catalog (needed for O3):\n",
    "ws.abs_linesReadFromHitran(\"/scratch/uni/u237/data/catalogue/hitran/hitran_online/HITRAN2012.par\",\n",
    "                           19e12,\n",
    "                           6e13) # ERROR, when using full IASI spectrum.\n",
    "ws.abs_lines_per_speciesCreateFromLines()"
   ]
  },
  {
   "cell_type": "code",
   "execution_count": 38,
   "metadata": {
    "ExecuteTime": {
     "end_time": "2019-07-17T09:06:43.155106Z",
     "start_time": "2019-07-17T09:06:43.102429Z"
    }
   },
   "outputs": [
    {
     "data": {
      "text/plain": [
       "[['H2O-*-*-*', 'H2O-SelfContCKDMT252-*-*', 'H2O-ForeignContCKDMT252-*-*'],\n",
       " ['O2-*-*-*', 'O2-CIAfunCKDMT100-*-*'],\n",
       " ['N2-*-*-*', 'N2-CIAfunCKDMT252-*-*', 'N2-CIArotCKDMT252-*-*'],\n",
       " ['O3-*-*-*'],\n",
       " ['CO2-*-*-*', 'CO2-CKDMT252-*-*']]"
      ]
     },
     "execution_count": 38,
     "metadata": {},
     "output_type": "execute_result"
    }
   ],
   "source": [
    "ws.abs_species.value"
   ]
  },
  {
   "cell_type": "markdown",
   "metadata": {},
   "source": [
    "# General Settings"
   ]
  },
  {
   "cell_type": "code",
   "execution_count": 8,
   "metadata": {
    "ExecuteTime": {
     "end_time": "2019-07-17T08:37:47.056512Z",
     "start_time": "2019-07-17T08:37:46.999763Z"
    }
   },
   "outputs": [],
   "source": [
    "ws.stokes_dim = 1\n",
    "ws.jacobian_quantities = []\n",
    "ws.iy_unit = \"PlanckBT\"\n",
    "ws.cloudboxOff()"
   ]
  },
  {
   "cell_type": "markdown",
   "metadata": {
    "collapsed": true
   },
   "source": [
    "# Atmosphere set up"
   ]
  },
  {
   "cell_type": "code",
   "execution_count": 9,
   "metadata": {
    "ExecuteTime": {
     "end_time": "2019-07-17T08:37:51.781593Z",
     "start_time": "2019-07-17T08:37:51.567880Z"
    }
   },
   "outputs": [],
   "source": [
    "ws.atmosphere_dim = 1  # for 1DVAR\n",
    "p = np.array([1000.,975.,950.,925.,900.,850.,800.,750.,700.,650.,600.,550.,500.,400.,300.,200.,100.])*100.0\n",
    "ws.p_grid = 0.5 * (p[1:] + p[:-1])\n",
    "ws.AtmRawRead( basename = \"testdata/tropical\") #tropical atmosphere assumed\n",
    "ws.lat_grid = []\n",
    "ws.lon_grid = []\n",
    "ws.AtmFieldsCalc()\n",
    "ws.AbsInputFromAtmFields()\n",
    "\n",
    "ws.z_surface = np.asarray(ws.z_field)[0]\n",
    "ws.t_surface = np.asarray(ws.t_field)[0]"
   ]
  },
  {
   "cell_type": "code",
   "execution_count": 10,
   "metadata": {
    "ExecuteTime": {
     "end_time": "2019-07-17T08:37:54.195415Z",
     "start_time": "2019-07-17T08:37:53.864608Z"
    }
   },
   "outputs": [
    {
     "name": "stderr",
     "output_type": "stream",
     "text": [
      "No handles with labels found to put in legend.\n"
     ]
    },
    {
     "data": {
      "text/plain": [
       "<matplotlib.legend.Legend at 0x7f614a554ac8>"
      ]
     },
     "execution_count": 10,
     "metadata": {},
     "output_type": "execute_result"
    },
    {
     "data": {
      "image/png": "[encoded data removed]",
      "text/plain": [
       "<Figure size 432x288 with 1 Axes>"
      ]
     },
     "metadata": {
      "needs_background": "light"
     },
     "output_type": "display_data"
    }
   ],
   "source": [
    "alt = np.asarray(ws.z_field).ravel() * .001 # altitude in km (for plotting)\n",
    "plt.xlabel(\"T [K]\")\n",
    "plt.ylabel(\"z [km]\")\n",
    "plt.plot(np.asarray(ws.vmr_field)[0,:,0,0], alt)\n",
    "plt.xlabel(\"$H_2O [mol/mol$]\")\n",
    "plt.ylabel(\"z [km]\")\n",
    "plt.xlabel(\"vmr [mol / mol]\")\n",
    "plt.ylabel(\"z [km]\")\n",
    "plt.legend()"
   ]
  },
  {
   "cell_type": "code",
   "execution_count": 37,
   "metadata": {
    "ExecuteTime": {
     "end_time": "2019-07-17T09:05:31.945394Z",
     "start_time": "2019-07-17T09:05:31.893932Z"
    },
    "scrolled": true
   },
   "outputs": [
    {
     "data": {
      "text/plain": [
       "\n",
       "*-------------------------------------------------------------------*\n",
       "Workspace method = jacobianAddAbsSpecies\n",
       "---------------------------------------------------------------------\n",
       "\n",
       "Includes an absorption species in the Jacobian.\n",
       "\n",
       "For 1D or 2D calculations the latitude and/or longitude grid of\n",
       "the retrieval field should set to have zero length.\n",
       "\n",
       "There are two possible calculation methods:\n",
       "   \"analytical\"   : (semi-)analytical expressions are used\n",
       "   \"perturbation\" : pure numerical perturbations are used\n",
       "\n",
       "These retrieval units are at hand for all gas species:\n",
       "   \"vmr\"    : Volume mixing ratio.\n",
       "   \"nd\"     : Number density.\n",
       "   \"rel\"    : Relative unit (e.g. 1.1 means 10% more of the gas).\n",
       "\n",
       "For water vapour, also these units are at hand:\n",
       "   \"rh\"     : Relative humidity.\n",
       "   \"q\"      : Specific humidity.\n",
       "\n",
       "For perturbation calculations the size of the perturbation is set\n",
       "by the user. The unit for the perturbation is the same as for the\n",
       "retrieval unit.\n",
       "\n",
       "Note that *for_species_tag* is used to indicate if species tag VMR,\n",
       "rather than atmospheric gas VMR is calculated. Set it to 0 and we\n",
       "calculate the atmospheric gas VMR, but this only works for \"analytical\".\n",
       "\n",
       "Note that the Jacobian is set to zero where volume mixing ratio equals zero.\n",
       "\n",
       "The number of elements added to the state vector (*x*) is:\n",
       "   n_g1 * n_g2 * n_g3\n",
       "where n_g1, n_g2 and n_g3 are the length of GIN *g1*, *g2* and *g3*,\n",
       "respectively. Here empty vectors should be considered to have a length 1.\n",
       "The elements are sorted with pressure as innermost loop, followed by\n",
       "latitude and longitude as outermost loop.\n",
       "\n",
       "\n",
       "Synopsis:\n",
       "\n",
       "jacobianAddAbsSpecies( jacobian_quantities, \n",
       "                       jacobian_agenda, atmosphere_dim, p_grid, \n",
       "                       lat_grid, lon_grid, g1, g2, g3, species, \n",
       "                       method, unit, for_species_tag, dx )\n",
       "\n",
       "\n",
       "Authors: Mattias Ekstrom, Patrick Eriksson\n",
       "\n",
       "\n",
       "Variables:\n",
       "\n",
       "OUT   jacobian_quantities (ArrayOfRetrievalQuantity): \n",
       "      The retrieval quantities in the Jacobian matrix.\n",
       "OUT   jacobian_agenda (Agenda): \n",
       "      Pure numerical Jacobian calculation agenda.\n",
       "IN    jacobian_quantities (ArrayOfRetrievalQuantity): \n",
       "      The retrieval quantities in the Jacobian matrix.\n",
       "IN    jacobian_agenda (Agenda): \n",
       "      Pure numerical Jacobian calculation agenda.\n",
       "IN    atmosphere_dim (Index): The atmospheric dimensionality (1-3).\n",
       "IN    p_grid (Vector): The pressure grid.\n",
       "IN    lat_grid (Vector): The latitude grid.\n",
       "IN    lon_grid (Vector): The longitude grid.\n",
       "GIN   g1 (Vector): Pressure retrieval grid.\n",
       "GIN   g2 (Vector): Latitude retrieval grid.\n",
       "GIN   g3 (Vector): Longitude retreival grid.\n",
       "GIN   species (String): The species tag of the retrieval quantity.\n",
       "GIN   method (String, Default: \"analytical\"): \n",
       "      Calculation method. See above.\n",
       "GIN   unit (String, Default: \"vmr\"): Retrieval unit. See above.\n",
       "GIN   for_species_tag (Index, Default: 1): \n",
       "      Index-bool for acting on species tags or species.\n",
       "GIN   dx (Numeric, Default: 0.001): Size of perturbation.\n",
       "\n",
       "*-------------------------------------------------------------------*"
      ]
     },
     "execution_count": 37,
     "metadata": {},
     "output_type": "execute_result"
    }
   ],
   "source": [
    "ws.jacobianAddAbsSpecies"
   ]
  },
  {
   "cell_type": "markdown",
   "metadata": {},
   "source": [
    "# Sensor definition"
   ]
  },
  {
   "cell_type": "code",
   "execution_count": 15,
   "metadata": {
    "ExecuteTime": {
     "end_time": "2019-07-17T08:46:27.385703Z",
     "start_time": "2019-07-17T08:46:27.040156Z"
    }
   },
   "outputs": [],
   "source": [
    "ws.sensor_pos  = np.array([[850e3]]) # 850km\n",
    "ws.sensor_time = np.array([0.0])\n",
    "ws.sensor_los  = np.array([[180.0]]) # nadir viewing\n",
    "\n",
    "# The below lines are important to select frequency range and resolution.\n",
    "# Grid spacing and FWHM of the Gaussian response should match!\n",
    "ws.VectorLinSpace( ws.f_grid, 40e12, 63e12, 7.5e9 )\n",
    "# load external f_backend\n",
    "ws.ReadXML( ws.f_backend, \"sensor_specs/IASI/f_backend.xml\" )\n",
    "ws.VectorCreate(\"f_backend_width\")\n",
    "ws.ReadXML( ws.f_backend_width, \"sensor_specs/IASI/f_backend_width.xml\" )\n",
    "ws.backend_channel_responseGaussian(ws.f_backend_width)\n",
    "# Sensor settings\n",
    "ws.FlagOn( ws.sensor_norm )\n",
    "ws.AntennaOff()\n",
    "ws.sensor_responseInit()\n",
    "ws.sensor_responseBackend()\n",
    "ws.sensor_checkedCalc()\n",
    "\n",
    "#ws.execute_controlfile(\"instruments/metmm/sensor_descriptions/prepare_metmm.arts\")\n",
    "#ws.execute_controlfile(\"instruments/metmm/sensor_descriptions/sensor_atms.arts\")\n",
    "#ws.execute_controlfile(\"instruments/metmm/sensor_descriptions/apply_metmm.arts\")\n",
    "#ws.execute_controlfile(\"instruments/metmm/common_metmm.arts\")"
   ]
  },
  {
   "cell_type": "code",
   "execution_count": 14,
   "metadata": {
    "ExecuteTime": {
     "end_time": "2019-07-17T08:43:08.185514Z",
     "start_time": "2019-07-17T08:43:08.134787Z"
    }
   },
   "outputs": [
    {
     "data": {
      "text/plain": [
       "array([4.30000e+13, 4.30075e+13, 4.30150e+13, ..., 5.99800e+13,\n",
       "       5.99875e+13, 5.99950e+13])"
      ]
     },
     "execution_count": 14,
     "metadata": {},
     "output_type": "execute_result"
    }
   ],
   "source": [
    "ws.sensor_response_f_grid.value"
   ]
  },
  {
   "cell_type": "code",
   "execution_count": 16,
   "metadata": {
    "ExecuteTime": {
     "end_time": "2019-07-17T08:47:36.092293Z",
     "start_time": "2019-07-17T08:47:30.714372Z"
    }
   },
   "outputs": [],
   "source": [
    "ws.atmfields_checkedCalc( bad_partition_functions_ok = 1 )\n",
    "ws.abs_xsec_agenda_checkedCalc()\n",
    "ws.abs_lookupSetup()\n",
    "ws.abs_lookupCalc()"
   ]
  },
  {
   "cell_type": "markdown",
   "metadata": {},
   "source": [
    "## Setup perturbed profile"
   ]
  },
  {
   "cell_type": "markdown",
   "metadata": {},
   "source": []
  },
  {
   "cell_type": "code",
   "execution_count": 17,
   "metadata": {
    "ExecuteTime": {
     "end_time": "2019-07-17T08:48:25.776956Z",
     "start_time": "2019-07-17T08:48:25.726211Z"
    }
   },
   "outputs": [],
   "source": [
    "a_priori = np.copy(ws.vmr_field.value[0, :, 0, 0])\n",
    "perturbed = 1.4 * a_priori"
   ]
  },
  {
   "cell_type": "code",
   "execution_count": 18,
   "metadata": {
    "ExecuteTime": {
     "end_time": "2019-07-17T08:48:28.182647Z",
     "start_time": "2019-07-17T08:48:27.581777Z"
    }
   },
   "outputs": [
    {
     "data": {
      "text/plain": [
       "<matplotlib.legend.Legend at 0x7f6136efdc88>"
      ]
     },
     "execution_count": 18,
     "metadata": {},
     "output_type": "execute_result"
    },
    {
     "data": {
      "image/png": "[encoded data removed]",
      "text/plain": [
       "<Figure size 432x288 with 1 Axes>"
      ]
     },
     "metadata": {
      "needs_background": "light"
     },
     "output_type": "display_data"
    }
   ],
   "source": [
    "plt.figure()\n",
    "plt.plot(a_priori, alt, label=\"A priori\")\n",
    "plt.plot(perturbed, alt, label=\"True state\")\n",
    "plt.xlabel(\"$H_2O [kg / m^3$]\")\n",
    "plt.ylabel(\"z [km]\")\n",
    "plt.legend()"
   ]
  },
  {
   "cell_type": "markdown",
   "metadata": {},
   "source": [
    "# Surface "
   ]
  },
  {
   "cell_type": "code",
   "execution_count": 21,
   "metadata": {
    "ExecuteTime": {
     "end_time": "2019-07-17T08:57:51.170848Z",
     "start_time": "2019-07-17T08:57:51.143075Z"
    }
   },
   "outputs": [],
   "source": [
    "ws.surface_scalar_reflectivity = np.array([0.5]) # nominal albedo for surface\n",
    "ws.propmat_clearsky_agenda_checkedCalc()\n",
    "ws.atmgeom_checkedCalc()\n",
    "ws.cloudbox_checkedCalc()\n",
    "ws.sensor_checkedCalc()\n",
    "ws.jacobianOff()"
   ]
  },
  {
   "cell_type": "markdown",
   "metadata": {},
   "source": [
    "# Call forward model\n",
    "\n",
    "Simulate observation setting vmr_field to the perturbed WV profile."
   ]
  },
  {
   "cell_type": "code",
   "execution_count": 62,
   "metadata": {
    "ExecuteTime": {
     "end_time": "2019-07-17T11:11:39.613993Z",
     "start_time": "2019-07-17T11:11:39.430622Z"
    }
   },
   "outputs": [
    {
     "data": {
      "text/plain": [
       "array([252.26361483, 250.63227323, 249.02931662, ..., 287.30492181,\n",
       "       286.44259167, 288.40174176])"
      ]
     },
     "execution_count": 62,
     "metadata": {},
     "output_type": "execute_result"
    }
   ],
   "source": [
    "ws.vmr_field.value[0, :, 0, 0] = perturbed\n",
    "ws.yCalc()\n",
    "ws.y.value # write out TBs for first ycalc\n",
    "# ws.y.value += np.random.normal(size=ws.y.value.size)*10"
   ]
  },
  {
   "cell_type": "code",
   "execution_count": 63,
   "metadata": {
    "ExecuteTime": {
     "end_time": "2019-07-17T11:11:43.021218Z",
     "start_time": "2019-07-17T11:11:42.711136Z"
    }
   },
   "outputs": [
    {
     "data": {
      "text/plain": [
       "[<matplotlib.lines.Line2D at 0x7f612ed86128>]"
      ]
     },
     "execution_count": 63,
     "metadata": {},
     "output_type": "execute_result"
    },
    {
     "data": {
      "image/png": "[encoded data removed]",
      "text/plain": [
       "<Figure size 432x288 with 1 Axes>"
      ]
     },
     "metadata": {
      "needs_background": "light"
     },
     "output_type": "display_data"
    }
   ],
   "source": [
    "plt.plot(10**6*3*10**8/ws.sensor_response_f_grid.value, ws.y.value)"
   ]
  },
  {
   "cell_type": "markdown",
   "metadata": {},
   "source": [
    "# Set up OEM retrieval"
   ]
  },
  {
   "cell_type": "code",
   "execution_count": 64,
   "metadata": {
    "ExecuteTime": {
     "end_time": "2019-07-17T11:11:48.742415Z",
     "start_time": "2019-07-17T11:11:48.617683Z"
    }
   },
   "outputs": [],
   "source": [
    "ws.vmr_field.value[0, :, 0, 0] = a_priori\n",
    "ws.retrievalDefInit()\n",
    "# Add H2O as retrieval quantity.\n",
    "ws.retrievalAddAbsSpecies(species=\"H2O, H2O-SelfContCKDMT252, H2O-ForeignContCKDMT252\",\n",
    "                          unit=\"rel\",\n",
    "                          g1=ws.p_grid,\n",
    "                          g2=ws.lat_grid,\n",
    "                          g3=ws.lon_grid )\n",
    "ws.covmat_sxAddBlock(block = np.diag(0.2 ** 2 * np.ones(perturbed.size)))\n",
    "\n",
    "# Setup observation error covariance matrix.\n",
    "ws.covmat_seAddBlock(block = 1.0 ** 2 * np.diag(np.ones(ws.y.value.size)))\n",
    "ws.retrievalDefClose()\n",
    "\n",
    "# define inversion iteration as function object within python\n",
    "@arts_agenda\n",
    "def inversion_agenda(ws):\n",
    "    ws.Ignore(ws.inversion_iteration_counter)\n",
    "    ws.x2artsAtmAndSurf()\n",
    "    ws.atmfields_checkedCalc()  # to be safe, rerun checks dealing with atmosph.\n",
    "    ws.atmgeom_checkedCalc()\n",
    "    ws.yCalc()  # calculate yf and jacobian matching x\n",
    "    ws.Copy(ws.yf, ws.y)\n",
    "    ws.jacobianAdjustAndTransform()\n",
    "    \n",
    "ws.Copy(ws.inversion_iterate_agenda, inversion_agenda)"
   ]
  },
  {
   "cell_type": "code",
   "execution_count": 65,
   "metadata": {
    "ExecuteTime": {
     "end_time": "2019-07-17T11:11:53.188206Z",
     "start_time": "2019-07-17T11:11:53.135914Z"
    }
   },
   "outputs": [],
   "source": [
    "ws.xa = np.ones(perturbed.size) # if supplying user-defined a priori vector\n",
    "ws.x  = np.array([]) # create empty vector for retrieved state vector?\n",
    "ws.yf = np.array([]) # create empty vector for simulated TB?\n",
    "ws.jacobian = np.array([[]])"
   ]
  },
  {
   "cell_type": "markdown",
   "metadata": {},
   "source": [
    "# Run OEM retrieval"
   ]
  },
  {
   "cell_type": "code",
   "execution_count": 66,
   "metadata": {
    "ExecuteTime": {
     "end_time": "2019-07-17T11:11:58.918746Z",
     "start_time": "2019-07-17T11:11:54.631588Z"
    }
   },
   "outputs": [
    {
     "name": "stdout",
     "output_type": "stream",
     "text": [
      "ARTS[94150449651152]: \n",
      "ARTS[94150449651152]:                                 MAP Computation                                \n",
      "ARTS[94150449651152]: Formulation: Standard\n",
      "ARTS[94150449651152]: Method:      Gauss-Newton\n",
      "ARTS[94150449651152]: \n",
      "ARTS[94150449651152]:  Step     Total Cost         x-Cost         y-Cost    Conv. Crit.               \n",
      "ARTS[94150449651152]: --------------------------------------------------------------------------------\n",
      "ARTS[94150449651152]:     0        5.50782              0        5.50782               \n",
      "ARTS[94150449651152]:     1       0.132527      0.0135715       0.118955        777.981\n",
      "ARTS[94150449651152]:     2      0.0184529      0.0166957     0.00175712        16.1785\n",
      "ARTS[94150449651152]:     3      0.0183795       0.016731      0.0016485      0.0104028\n",
      "ARTS[94150449651152]:     4      0.0183795      0.0167303     0.00164921     1.9853e-07\n",
      "ARTS[94150449651152]: --------------------------------------------------------------------------------\n",
      "ARTS[94150449651152]: \n",
      "ARTS[94150449651152]: Total number of steps:            4\n",
      "ARTS[94150449651152]: Final scaled cost function value: 0.0183795\n",
      "ARTS[94150449651152]: OEM computation converged.\n",
      "ARTS[94150449651152]: \n",
      "ARTS[94150449651152]: Elapsed Time for Retrieval:                       0.866405\n",
      "ARTS[94150449651152]: Time in inversion_iterate Agenda (No Jacobian):   0.417897\n",
      "ARTS[94150449651152]: Time in inversion_iterate Agenda (With Jacobian): 0.392169\n",
      "ARTS[94150449651152]: \n",
      "ARTS[94150449651152]:                                       ----                                      \n",
      "ARTS[94150449651152]: \n",
      "\n",
      "[]\n"
     ]
    }
   ],
   "source": [
    "ws.oem_errors = []\n",
    "ws.OEM(method=\"gn\",\n",
    "       max_iter=1000,\n",
    "       display_progress=1,\n",
    "       max_start_cost=1e5)\n",
    "print(ws.oem_errors.value)\n",
    "ws.x2artsAtmAndSurf() # convert from ARTS coords back to user-defined grid"
   ]
  },
  {
   "cell_type": "code",
   "execution_count": 67,
   "metadata": {
    "ExecuteTime": {
     "end_time": "2019-07-17T11:12:04.781431Z",
     "start_time": "2019-07-17T11:12:04.750963Z"
    }
   },
   "outputs": [
    {
     "data": {
      "text/plain": [
       "array([1.03096426, 1.05767019, 1.05872491, 1.08470098, 1.1594476 ,\n",
       "       1.26238979, 1.34798966, 1.38736009, 1.4237627 , 1.38141433,\n",
       "       1.38518341, 1.42439987, 1.39391558, 1.39990401, 1.40984962,\n",
       "       1.01324894])"
      ]
     },
     "execution_count": 67,
     "metadata": {},
     "output_type": "execute_result"
    }
   ],
   "source": [
    "retrieved = np.copy(ws.vmr_field)[0,:,0,0]\n",
    "ws.x.value"
   ]
  },
  {
   "cell_type": "markdown",
   "metadata": {},
   "source": [
    "# Look at results"
   ]
  },
  {
   "cell_type": "code",
   "execution_count": 68,
   "metadata": {
    "ExecuteTime": {
     "end_time": "2019-07-17T11:12:07.040767Z",
     "start_time": "2019-07-17T11:12:06.685729Z"
    }
   },
   "outputs": [
    {
     "data": {
      "text/plain": [
       "<matplotlib.legend.Legend at 0x7f612ed00fd0>"
      ]
     },
     "execution_count": 68,
     "metadata": {},
     "output_type": "execute_result"
    },
    {
     "data": {
      "image/png": "[encoded data removed]",
      "text/plain": [
       "<Figure size 432x288 with 1 Axes>"
      ]
     },
     "metadata": {
      "needs_background": "light"
     },
     "output_type": "display_data"
    }
   ],
   "source": [
    "plt.plot(perturbed, alt, label = \"Truth\", c = \"blue\")\n",
    "plt.plot(retrieved, alt, label = \"Retrieved\", c = \"red\")\n",
    "plt.plot(a_priori, alt, label=\"A Priori\", c = \"grey\", ls = \"--\")\n",
    "plt.xlabel(\"$H_2O [kg / m^3$]\")\n",
    "plt.ylabel(\"z [km]\")\n",
    "plt.legend()"
   ]
  }
 ],
 "metadata": {
  "kernelspec": {
   "display_name": "Python 3",
   "language": "python",
   "name": "python3"
  },
  "language_info": {
   "codemirror_mode": {
    "name": "ipython",
    "version": 3
   },
   "file_extension": ".py",
   "mimetype": "text/x-python",
   "name": "python",
   "nbconvert_exporter": "python",
   "pygments_lexer": "ipython3",
   "version": "3.7.3"
  },
  "toc": {
   "base_numbering": 1,
   "nav_menu": {},
   "number_sections": true,
   "sideBar": true,
   "skip_h1_title": false,
   "title_cell": "Table of Contents",
   "title_sidebar": "Contents",
   "toc_cell": false,
   "toc_position": {},
   "toc_section_display": true,
   "toc_window_display": false
  }
 },
 "nbformat": 4,
 "nbformat_minor": 2
}
